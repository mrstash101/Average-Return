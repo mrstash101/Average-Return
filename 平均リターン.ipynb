{
  "nbformat": 4,
  "nbformat_minor": 0,
  "metadata": {
    "kernelspec": {
      "display_name": "Python 3",
      "language": "python",
      "name": "python3"
    },
    "language_info": {
      "codemirror_mode": {
        "name": "ipython",
        "version": 3
      },
      "file_extension": ".py",
      "mimetype": "text/x-python",
      "name": "python",
      "nbconvert_exporter": "python",
      "pygments_lexer": "ipython3",
      "version": "3.7.6"
    },
    "colab": {
      "name": "平均リターン.ipynb",
      "provenance": [],
      "collapsed_sections": [],
      "toc_visible": true,
      "include_colab_link": true
    }
  },
  "cells": [
    {
      "cell_type": "markdown",
      "metadata": {
        "id": "view-in-github",
        "colab_type": "text"
      },
      "source": [
        "<a href=\"https://colab.research.google.com/github/mrstash101/Average-Return/blob/main/%E5%B9%B3%E5%9D%87%E3%83%AA%E3%82%BF%E3%83%BC%E3%83%B3.ipynb\" target=\"_parent\"><img src=\"https://colab.research.google.com/assets/colab-badge.svg\" alt=\"Open In Colab\"/></a>"
      ]
    },
    {
      "cell_type": "code",
      "metadata": {
        "id": "Y7ygQF8XTJr_"
      },
      "source": [
        "import pandas as pd\n",
        "import numpy as np\n",
        "import matplotlib.pyplot as plt\n",
        "import matplotlib.ticker as ticker"
      ],
      "execution_count": null,
      "outputs": []
    },
    {
      "cell_type": "code",
      "metadata": {
        "colab": {
          "base_uri": "https://localhost:8080/"
        },
        "id": "63AqYsXXrAPx",
        "outputId": "79232ec8-6cd1-47ac-855f-86ca4b1d86c2"
      },
      "source": [
        "!pip install matplotlib-venn"
      ],
      "execution_count": null,
      "outputs": [
        {
          "output_type": "stream",
          "text": [
            "Requirement already satisfied: matplotlib-venn in /usr/local/lib/python3.6/dist-packages (0.11.6)\n",
            "Requirement already satisfied: scipy in /usr/local/lib/python3.6/dist-packages (from matplotlib-venn) (1.4.1)\n",
            "Requirement already satisfied: matplotlib in /usr/local/lib/python3.6/dist-packages (from matplotlib-venn) (3.2.2)\n",
            "Requirement already satisfied: numpy in /usr/local/lib/python3.6/dist-packages (from matplotlib-venn) (1.18.5)\n",
            "Requirement already satisfied: kiwisolver>=1.0.1 in /usr/local/lib/python3.6/dist-packages (from matplotlib->matplotlib-venn) (1.3.1)\n",
            "Requirement already satisfied: python-dateutil>=2.1 in /usr/local/lib/python3.6/dist-packages (from matplotlib->matplotlib-venn) (2.8.1)\n",
            "Requirement already satisfied: cycler>=0.10 in /usr/local/lib/python3.6/dist-packages (from matplotlib->matplotlib-venn) (0.10.0)\n",
            "Requirement already satisfied: pyparsing!=2.0.4,!=2.1.2,!=2.1.6,>=2.0.1 in /usr/local/lib/python3.6/dist-packages (from matplotlib->matplotlib-venn) (2.4.7)\n",
            "Requirement already satisfied: six>=1.5 in /usr/local/lib/python3.6/dist-packages (from python-dateutil>=2.1->matplotlib->matplotlib-venn) (1.15.0)\n"
          ],
          "name": "stdout"
        }
      ]
    },
    {
      "cell_type": "markdown",
      "metadata": {
        "id": "RzFI6oG0Fyjs"
      },
      "source": [
        "# S&P 500 Average Return 2000-2019"
      ]
    },
    {
      "cell_type": "code",
      "metadata": {
        "colab": {
          "base_uri": "https://localhost:8080/",
          "height": 410
        },
        "id": "fJRtgtDhrCZX",
        "outputId": "c24e7f01-ecbf-4196-f12f-22046a061749"
      },
      "source": [
        "def history(csvfile):\n",
        "    df = pd.read_csv(csvfile, index_col='Date', parse_dates=True)\n",
        "    df = df.dropna()\n",
        "    df.index = df.index.to_period('M').to_timestamp('M')\n",
        "    display(df.head(1).append(df.tail(1)))\n",
        "    annual_price = df.resample('Y').agg({\n",
        "        'Open': 'first',\n",
        "        'Adj Close': 'last',\n",
        "    })\n",
        "    monthly_price = df[['Open', 'Adj Close']]\n",
        "    fig, axes = plt.subplots(nrows=1, ncols=2, figsize=(14, 4))\n",
        "    annual_price['Adj Close'].diff().cumsum().plot(ax=axes[0])\n",
        "    annual_price.loc['2000':'2019', 'Adj Close'].diff().cumsum().plot(ax=axes[1])\n",
        "    return [\n",
        "        r.pct_change(axis=1).dropna(axis=1).rename(columns={'Adj Close': 'value'}) \n",
        "        for r in (annual_price, monthly_price)\n",
        "    ]\n",
        "\n",
        "annual_return, monthly_return = history('./^GSPC.csv')\n",
        "display(annual_return['value'].mean())\n",
        "display(annual_return.loc['2000':'2019', 'value'].mean())\n",
        "plt.show(block=True)"
      ],
      "execution_count": null,
      "outputs": [
        {
          "output_type": "display_data",
          "data": {
            "text/html": [
              "<div>\n",
              "<style scoped>\n",
              "    .dataframe tbody tr th:only-of-type {\n",
              "        vertical-align: middle;\n",
              "    }\n",
              "\n",
              "    .dataframe tbody tr th {\n",
              "        vertical-align: top;\n",
              "    }\n",
              "\n",
              "    .dataframe thead th {\n",
              "        text-align: right;\n",
              "    }\n",
              "</style>\n",
              "<table border=\"1\" class=\"dataframe\">\n",
              "  <thead>\n",
              "    <tr style=\"text-align: right;\">\n",
              "      <th></th>\n",
              "      <th>Open</th>\n",
              "      <th>High</th>\n",
              "      <th>Low</th>\n",
              "      <th>Close</th>\n",
              "      <th>Adj Close</th>\n",
              "      <th>Volume</th>\n",
              "    </tr>\n",
              "    <tr>\n",
              "      <th>Date</th>\n",
              "      <th></th>\n",
              "      <th></th>\n",
              "      <th></th>\n",
              "      <th></th>\n",
              "      <th></th>\n",
              "      <th></th>\n",
              "    </tr>\n",
              "  </thead>\n",
              "  <tbody>\n",
              "    <tr>\n",
              "      <th>2000-01-31</th>\n",
              "      <td>1469.25</td>\n",
              "      <td>1478.000000</td>\n",
              "      <td>1350.140015</td>\n",
              "      <td>1394.459961</td>\n",
              "      <td>1394.459961</td>\n",
              "      <td>21494400000</td>\n",
              "    </tr>\n",
              "    <tr>\n",
              "      <th>2018-12-31</th>\n",
              "      <td>2790.50</td>\n",
              "      <td>2800.179932</td>\n",
              "      <td>2346.580078</td>\n",
              "      <td>2506.850098</td>\n",
              "      <td>2506.850098</td>\n",
              "      <td>83522570000</td>\n",
              "    </tr>\n",
              "  </tbody>\n",
              "</table>\n",
              "</div>"
            ],
            "text/plain": [
              "               Open         High  ...    Adj Close       Volume\n",
              "Date                              ...                          \n",
              "2000-01-31  1469.25  1478.000000  ...  1394.459961  21494400000\n",
              "2018-12-31  2790.50  2800.179932  ...  2506.850098  83522570000\n",
              "\n",
              "[2 rows x 6 columns]"
            ]
          },
          "metadata": {
            "tags": []
          }
        },
        {
          "output_type": "display_data",
          "data": {
            "text/plain": [
              "0.04334470534109167"
            ]
          },
          "metadata": {
            "tags": []
          }
        },
        {
          "output_type": "display_data",
          "data": {
            "text/plain": [
              "0.04334470534109167"
            ]
          },
          "metadata": {
            "tags": []
          }
        },
        {
          "output_type": "display_data",
          "data": {
            "image/png": "[encoded data removed]",
            "text/plain": [
              "<Figure size 1008x288 with 2 Axes>"
            ]
          },
          "metadata": {
            "tags": [],
            "needs_background": "light"
          }
        }
      ]
    },
    {
      "cell_type": "markdown",
      "metadata": {
        "id": "PfLFHP6RF-S3"
      },
      "source": [
        "#NIKKEI Average Return 2000-2020\n",
        "\n",
        "---\n",
        "\n"
      ]
    },
    {
      "cell_type": "code",
      "metadata": {
        "id": "HqJk51UlGl58"
      },
      "source": [
        "import pandas as pd\n",
        "import numpy as np\n",
        "import matplotlib.pyplot as plt\n",
        "import matplotlib.ticker as ticker"
      ],
      "execution_count": null,
      "outputs": []
    },
    {
      "cell_type": "code",
      "metadata": {
        "id": "w6BZONezHSq7",
        "colab": {
          "base_uri": "https://localhost:8080/",
          "height": 440
        },
        "outputId": "88440846-4436-407f-b594-41dbb3b07fd5"
      },
      "source": [
        "def history(csvfile):\n",
        "    df = pd.read_csv(csvfile, index_col='Date', parse_dates=True)\n",
        "    df = df.dropna()\n",
        "    df.index = df.index.to_period('M').to_timestamp('M')\n",
        "    display(df.head(1).append(df.tail(1)))\n",
        "    annual_price = df.resample('Y').agg({\n",
        "        'Open': 'first',\n",
        "        'Adj Close': 'last',\n",
        "    })\n",
        "    monthly_price = df[['Open', 'Adj Close']]\n",
        "    fig, axes = plt.subplots(nrows=1, ncols=2, figsize=(14, 4))\n",
        "    annual_price['Adj Close'].diff().cumsum().plot(ax=axes[0])\n",
        "    annual_price.loc['2000':'2020', 'Adj Close'].diff().cumsum().plot(ax=axes[1])\n",
        "    return [\n",
        "        r.pct_change(axis=1).dropna(axis=1).rename(columns={'Adj Close': 'value'}) \n",
        "        for r in (annual_price, monthly_price)\n",
        "    ]\n",
        "\n",
        "annual_return, monthly_return = history('./^N225.csv')\n",
        "display(annual_return['value'].mean())\n",
        "display(annual_return.loc['2000x':'2020', 'value'].mean())\n",
        "plt.show(block=True)"
      ],
      "execution_count": null,
      "outputs": [
        {
          "output_type": "display_data",
          "data": {
            "text/html": [
              "<div>\n",
              "<style scoped>\n",
              "    .dataframe tbody tr th:only-of-type {\n",
              "        vertical-align: middle;\n",
              "    }\n",
              "\n",
              "    .dataframe tbody tr th {\n",
              "        vertical-align: top;\n",
              "    }\n",
              "\n",
              "    .dataframe thead th {\n",
              "        text-align: right;\n",
              "    }\n",
              "</style>\n",
              "<table border=\"1\" class=\"dataframe\">\n",
              "  <thead>\n",
              "    <tr style=\"text-align: right;\">\n",
              "      <th></th>\n",
              "      <th>Open</th>\n",
              "      <th>High</th>\n",
              "      <th>Low</th>\n",
              "      <th>Close</th>\n",
              "      <th>Adj Close</th>\n",
              "      <th>Volume</th>\n",
              "    </tr>\n",
              "    <tr>\n",
              "      <th>Date</th>\n",
              "      <th></th>\n",
              "      <th></th>\n",
              "      <th></th>\n",
              "      <th></th>\n",
              "      <th></th>\n",
              "      <th></th>\n",
              "    </tr>\n",
              "  </thead>\n",
              "  <tbody>\n",
              "    <tr>\n",
              "      <th>2000-01-31</th>\n",
              "      <td>18937.449219</td>\n",
              "      <td>19187.609375</td>\n",
              "      <td>18937.449219</td>\n",
              "      <td>19002.859375</td>\n",
              "      <td>19002.859375</td>\n",
              "      <td>0.0</td>\n",
              "    </tr>\n",
              "    <tr>\n",
              "      <th>2019-12-31</th>\n",
              "      <td>23770.929688</td>\n",
              "      <td>23782.490234</td>\n",
              "      <td>23656.619141</td>\n",
              "      <td>23656.619141</td>\n",
              "      <td>23656.619141</td>\n",
              "      <td>41600.0</td>\n",
              "    </tr>\n",
              "  </tbody>\n",
              "</table>\n",
              "</div>"
            ],
            "text/plain": [
              "                    Open          High  ...     Adj Close   Volume\n",
              "Date                                    ...                       \n",
              "2000-01-31  18937.449219  19187.609375  ...  19002.859375      0.0\n",
              "2019-12-31  23770.929688  23782.490234  ...  23656.619141  41600.0\n",
              "\n",
              "[2 rows x 6 columns]"
            ]
          },
          "metadata": {
            "tags": []
          }
        },
        {
          "output_type": "display_data",
          "data": {
            "text/plain": [
              "0.03522826848208645"
            ]
          },
          "metadata": {
            "tags": []
          }
        },
        {
          "output_type": "display_data",
          "data": {
            "text/plain": [
              "0.03522826848208645"
            ]
          },
          "metadata": {
            "tags": []
          }
        },
        {
          "output_type": "display_data",
          "data": {
            "image/png": "[encoded data removed]",
            "text/plain": [
              "<Figure size 1008x288 with 2 Axes>"
            ]
          },
          "metadata": {
            "tags": [],
            "needs_background": "light"
          }
        }
      ]
    }
  ]
}